{
  "cells": [
    {
      "cell_type": "markdown",
      "metadata": {
        "id": "view-in-github",
        "colab_type": "text"
      },
      "source": [
        "<a href=\"https://colab.research.google.com/github/IgorEisenlohr/MVP-sprint-2/blob/main/MVP_sprint_2.ipynb\" target=\"_parent\"><img src=\"https://colab.research.google.com/assets/colab-badge.svg\" alt=\"Open In Colab\"/></a>"
      ]
    },
    {
      "cell_type": "markdown",
      "metadata": {
        "id": "zEDpKlt9omR2"
      },
      "source": [
        "# Machine Learning"
      ]
    },
    {
      "cell_type": "code",
      "execution_count": null,
      "metadata": {
        "id": "1tcRUH5bHhrS"
      },
      "outputs": [],
      "source": [
        "import pandas as pd\n",
        "import numpy as np\n",
        "import matplotlib.pyplot as plt\n",
        "import seaborn as sns\n",
        "from sklearn.preprocessing import MinMaxScaler, StandardScaler\n",
        "from sklearn.model_selection import train_test_split"
      ]
    },
    {
      "cell_type": "code",
      "execution_count": null,
      "metadata": {
        "colab": {
          "base_uri": "https://localhost:8080/",
          "height": 337
        },
        "id": "Jm_DVF6XHwWl",
        "outputId": "32d55616-e938-485e-e0e1-f19826216063"
      },
      "outputs": [
        {
          "data": {
            "text/html": [
              "\n",
              "  <div id=\"df-7f20775e-d0df-42bb-b874-47ceaa90c345\">\n",
              "    <div class=\"colab-df-container\">\n",
              "      <div>\n",
              "<style scoped>\n",
              "    .dataframe tbody tr th:only-of-type {\n",
              "        vertical-align: middle;\n",
              "    }\n",
              "\n",
              "    .dataframe tbody tr th {\n",
              "        vertical-align: top;\n",
              "    }\n",
              "\n",
              "    .dataframe thead th {\n",
              "        text-align: right;\n",
              "    }\n",
              "</style>\n",
              "<table border=\"1\" class=\"dataframe\">\n",
              "  <thead>\n",
              "    <tr style=\"text-align: right;\">\n",
              "      <th></th>\n",
              "      <th>status</th>\n",
              "      <th>price</th>\n",
              "      <th>bed</th>\n",
              "      <th>bath</th>\n",
              "      <th>acre_lot</th>\n",
              "      <th>full_address</th>\n",
              "      <th>street</th>\n",
              "      <th>city</th>\n",
              "      <th>state</th>\n",
              "      <th>zip_code</th>\n",
              "      <th>house_size</th>\n",
              "      <th>sold_date</th>\n",
              "    </tr>\n",
              "  </thead>\n",
              "  <tbody>\n",
              "    <tr>\n",
              "      <th>0</th>\n",
              "      <td>for_sale</td>\n",
              "      <td>105000.0</td>\n",
              "      <td>3.0</td>\n",
              "      <td>2.0</td>\n",
              "      <td>0.12</td>\n",
              "      <td>Sector Yahuecas Titulo # V84, Adjuntas, PR, 00601</td>\n",
              "      <td>Sector Yahuecas Titulo # V84</td>\n",
              "      <td>Adjuntas</td>\n",
              "      <td>Puerto Rico</td>\n",
              "      <td>601.0</td>\n",
              "      <td>920.0</td>\n",
              "      <td>NaT</td>\n",
              "    </tr>\n",
              "    <tr>\n",
              "      <th>1</th>\n",
              "      <td>for_sale</td>\n",
              "      <td>80000.0</td>\n",
              "      <td>4.0</td>\n",
              "      <td>2.0</td>\n",
              "      <td>0.08</td>\n",
              "      <td>Km 78 9 Carr # 135, Adjuntas, PR, 00601</td>\n",
              "      <td>Km 78 9 Carr # 135</td>\n",
              "      <td>Adjuntas</td>\n",
              "      <td>Puerto Rico</td>\n",
              "      <td>601.0</td>\n",
              "      <td>1527.0</td>\n",
              "      <td>NaT</td>\n",
              "    </tr>\n",
              "    <tr>\n",
              "      <th>2</th>\n",
              "      <td>for_sale</td>\n",
              "      <td>67000.0</td>\n",
              "      <td>2.0</td>\n",
              "      <td>1.0</td>\n",
              "      <td>0.15</td>\n",
              "      <td>556G 556-G 16 St, Juana Diaz, PR, 00795</td>\n",
              "      <td>556G 556-G 16 St</td>\n",
              "      <td>Juana Diaz</td>\n",
              "      <td>Puerto Rico</td>\n",
              "      <td>795.0</td>\n",
              "      <td>748.0</td>\n",
              "      <td>NaT</td>\n",
              "    </tr>\n",
              "    <tr>\n",
              "      <th>3</th>\n",
              "      <td>for_sale</td>\n",
              "      <td>145000.0</td>\n",
              "      <td>4.0</td>\n",
              "      <td>2.0</td>\n",
              "      <td>0.10</td>\n",
              "      <td>R5 Comunidad El Paraso Calle De Oro R-5 Ponce,...</td>\n",
              "      <td>R5 Comunidad El Paraso Calle De Oro R-5 Ponce</td>\n",
              "      <td>Ponce</td>\n",
              "      <td>Puerto Rico</td>\n",
              "      <td>731.0</td>\n",
              "      <td>1800.0</td>\n",
              "      <td>NaT</td>\n",
              "    </tr>\n",
              "    <tr>\n",
              "      <th>4</th>\n",
              "      <td>for_sale</td>\n",
              "      <td>65000.0</td>\n",
              "      <td>6.0</td>\n",
              "      <td>2.0</td>\n",
              "      <td>0.05</td>\n",
              "      <td>14 Navarro, Mayaguez, PR, 00680</td>\n",
              "      <td>14 Navarro</td>\n",
              "      <td>Mayaguez</td>\n",
              "      <td>Puerto Rico</td>\n",
              "      <td>680.0</td>\n",
              "      <td>NaN</td>\n",
              "      <td>NaT</td>\n",
              "    </tr>\n",
              "  </tbody>\n",
              "</table>\n",
              "</div>\n",
              "      <button class=\"colab-df-convert\" onclick=\"convertToInteractive('df-7f20775e-d0df-42bb-b874-47ceaa90c345')\"\n",
              "              title=\"Convert this dataframe to an interactive table.\"\n",
              "              style=\"display:none;\">\n",
              "        \n",
              "  <svg xmlns=\"http://www.w3.org/2000/svg\" height=\"24px\"viewBox=\"0 0 24 24\"\n",
              "       width=\"24px\">\n",
              "    <path d=\"M0 0h24v24H0V0z\" fill=\"none\"/>\n",
              "    <path d=\"M18.56 5.44l.94 2.06.94-2.06 2.06-.94-2.06-.94-.94-2.06-.94 2.06-2.06.94zm-11 1L8.5 8.5l.94-2.06 2.06-.94-2.06-.94L8.5 2.5l-.94 2.06-2.06.94zm10 10l.94 2.06.94-2.06 2.06-.94-2.06-.94-.94-2.06-.94 2.06-2.06.94z\"/><path d=\"M17.41 7.96l-1.37-1.37c-.4-.4-.92-.59-1.43-.59-.52 0-1.04.2-1.43.59L10.3 9.45l-7.72 7.72c-.78.78-.78 2.05 0 2.83L4 21.41c.39.39.9.59 1.41.59.51 0 1.02-.2 1.41-.59l7.78-7.78 2.81-2.81c.8-.78.8-2.07 0-2.86zM5.41 20L4 18.59l7.72-7.72 1.47 1.35L5.41 20z\"/>\n",
              "  </svg>\n",
              "      </button>\n",
              "      \n",
              "  <style>\n",
              "    .colab-df-container {\n",
              "      display:flex;\n",
              "      flex-wrap:wrap;\n",
              "      gap: 12px;\n",
              "    }\n",
              "\n",
              "    .colab-df-convert {\n",
              "      background-color: #E8F0FE;\n",
              "      border: none;\n",
              "      border-radius: 50%;\n",
              "      cursor: pointer;\n",
              "      display: none;\n",
              "      fill: #1967D2;\n",
              "      height: 32px;\n",
              "      padding: 0 0 0 0;\n",
              "      width: 32px;\n",
              "    }\n",
              "\n",
              "    .colab-df-convert:hover {\n",
              "      background-color: #E2EBFA;\n",
              "      box-shadow: 0px 1px 2px rgba(60, 64, 67, 0.3), 0px 1px 3px 1px rgba(60, 64, 67, 0.15);\n",
              "      fill: #174EA6;\n",
              "    }\n",
              "\n",
              "    [theme=dark] .colab-df-convert {\n",
              "      background-color: #3B4455;\n",
              "      fill: #D2E3FC;\n",
              "    }\n",
              "\n",
              "    [theme=dark] .colab-df-convert:hover {\n",
              "      background-color: #434B5C;\n",
              "      box-shadow: 0px 1px 3px 1px rgba(0, 0, 0, 0.15);\n",
              "      filter: drop-shadow(0px 1px 2px rgba(0, 0, 0, 0.3));\n",
              "      fill: #FFFFFF;\n",
              "    }\n",
              "  </style>\n",
              "\n",
              "      <script>\n",
              "        const buttonEl =\n",
              "          document.querySelector('#df-7f20775e-d0df-42bb-b874-47ceaa90c345 button.colab-df-convert');\n",
              "        buttonEl.style.display =\n",
              "          google.colab.kernel.accessAllowed ? 'block' : 'none';\n",
              "\n",
              "        async function convertToInteractive(key) {\n",
              "          const element = document.querySelector('#df-7f20775e-d0df-42bb-b874-47ceaa90c345');\n",
              "          const dataTable =\n",
              "            await google.colab.kernel.invokeFunction('convertToInteractive',\n",
              "                                                     [key], {});\n",
              "          if (!dataTable) return;\n",
              "\n",
              "          const docLinkHtml = 'Like what you see? Visit the ' +\n",
              "            '<a target=\"_blank\" href=https://colab.research.google.com/notebooks/data_table.ipynb>data table notebook</a>'\n",
              "            + ' to learn more about interactive tables.';\n",
              "          element.innerHTML = '';\n",
              "          dataTable['output_type'] = 'display_data';\n",
              "          await google.colab.output.renderOutput(dataTable, element);\n",
              "          const docLink = document.createElement('div');\n",
              "          docLink.innerHTML = docLinkHtml;\n",
              "          element.appendChild(docLink);\n",
              "        }\n",
              "      </script>\n",
              "    </div>\n",
              "  </div>\n",
              "  "
            ],
            "text/plain": [
              "     status     price  bed  bath  acre_lot  \\\n",
              "0  for_sale  105000.0  3.0   2.0      0.12   \n",
              "1  for_sale   80000.0  4.0   2.0      0.08   \n",
              "2  for_sale   67000.0  2.0   1.0      0.15   \n",
              "3  for_sale  145000.0  4.0   2.0      0.10   \n",
              "4  for_sale   65000.0  6.0   2.0      0.05   \n",
              "\n",
              "                                        full_address  \\\n",
              "0  Sector Yahuecas Titulo # V84, Adjuntas, PR, 00601   \n",
              "1            Km 78 9 Carr # 135, Adjuntas, PR, 00601   \n",
              "2            556G 556-G 16 St, Juana Diaz, PR, 00795   \n",
              "3  R5 Comunidad El Paraso Calle De Oro R-5 Ponce,...   \n",
              "4                    14 Navarro, Mayaguez, PR, 00680   \n",
              "\n",
              "                                          street        city        state  \\\n",
              "0                   Sector Yahuecas Titulo # V84    Adjuntas  Puerto Rico   \n",
              "1                             Km 78 9 Carr # 135    Adjuntas  Puerto Rico   \n",
              "2                               556G 556-G 16 St  Juana Diaz  Puerto Rico   \n",
              "3  R5 Comunidad El Paraso Calle De Oro R-5 Ponce       Ponce  Puerto Rico   \n",
              "4                                     14 Navarro    Mayaguez  Puerto Rico   \n",
              "\n",
              "   zip_code  house_size sold_date  \n",
              "0     601.0       920.0       NaT  \n",
              "1     601.0      1527.0       NaT  \n",
              "2     795.0       748.0       NaT  \n",
              "3     731.0      1800.0       NaT  \n",
              "4     680.0         NaN       NaT  "
            ]
          },
          "execution_count": 11,
          "metadata": {},
          "output_type": "execute_result"
        }
      ],
      "source": [
        "url = 'https://raw.githubusercontent.com/IgorEisenlohr/MVP-sprint-2/main/usa_real_state/realtor-data.csv'\n",
        "df = pd.read_csv(url, parse_dates=['sold_date'])\n",
        "df.head()"
      ]
    },
    {
      "cell_type": "code",
      "execution_count": null,
      "metadata": {
        "colab": {
          "base_uri": "https://localhost:8080/"
        },
        "id": "FnaEQ2QnH9tn",
        "outputId": "e55300f0-0d09-45aa-a8bd-995b8b31489a"
      },
      "outputs": [
        {
          "data": {
            "text/plain": [
              "(512159, 12)"
            ]
          },
          "execution_count": 12,
          "metadata": {},
          "output_type": "execute_result"
        }
      ],
      "source": [
        "df.shape"
      ]
    },
    {
      "cell_type": "code",
      "execution_count": null,
      "metadata": {
        "colab": {
          "base_uri": "https://localhost:8080/"
        },
        "id": "6pLu6p1UH_gm",
        "outputId": "b3c6aad9-e691-4f67-f2fb-143568bab933"
      },
      "outputs": [
        {
          "data": {
            "text/plain": [
              "status               0\n",
              "price                0\n",
              "bed              98937\n",
              "bath             95218\n",
              "acre_lot        104979\n",
              "full_address         0\n",
              "street             616\n",
              "city                59\n",
              "state                0\n",
              "zip_code           197\n",
              "house_size      116466\n",
              "sold_date       309652\n",
              "dtype: int64"
            ]
          },
          "execution_count": 13,
          "metadata": {},
          "output_type": "execute_result"
        }
      ],
      "source": [
        "df.isnull().sum()"
      ]
    },
    {
      "cell_type": "markdown",
      "metadata": {
        "id": "HqnTQkqYoo1p"
      },
      "source": [
        "# Deep Learning"
      ]
    },
    {
      "cell_type": "code",
      "execution_count": null,
      "metadata": {
        "colab": {
          "base_uri": "https://localhost:8080/"
        },
        "id": "BvA5txUo5l3v",
        "outputId": "1f32ecce-4502-4f71-9752-d9de26394e73"
      },
      "outputs": [
        {
          "output_type": "stream",
          "name": "stdout",
          "text": [
            "Cloning into 'MVP-sprint-2'...\n",
            "remote: Enumerating objects: 5856, done.\u001b[K\n",
            "remote: Counting objects: 100% (13/13), done.\u001b[K\n",
            "remote: Compressing objects: 100% (13/13), done.\u001b[K\n",
            "remote: Total 5856 (delta 1), reused 0 (delta 0), pack-reused 5843\u001b[K\n",
            "Receiving objects: 100% (5856/5856), 1.14 GiB | 16.94 MiB/s, done.\n",
            "Resolving deltas: 100% (2/2), done.\n",
            "Updating files: 100% (5859/5859), done.\n"
          ]
        }
      ],
      "source": [
        "!git clone https://github.com/IgorEisenlohr/MVP-sprint-2.git"
      ]
    },
    {
      "cell_type": "code",
      "source": [
        "import pandas as pd\n",
        "import numpy as np\n",
        "import matplotlib.pyplot as plt\n",
        "import seaborn as sns\n",
        "import os\n",
        "from PIL import Image\n",
        "\n",
        "from sklearn.metrics import confusion_matrix\n",
        "\n",
        "from keras import metrics\n",
        "from keras.utils import array_to_img\n",
        "from keras.preprocessing.image import ImageDataGenerator\n",
        "from keras.models import Sequential\n",
        "from keras.layers import Conv2D, Flatten, Dense, Dropout, MaxPooling2D, BatchNormalization"
      ],
      "metadata": {
        "id": "uI1Pe0Z3A8vJ"
      },
      "execution_count": null,
      "outputs": []
    },
    {
      "cell_type": "code",
      "source": [
        "main_dir = '/content/MVP-sprint-2/chest_xray'\n",
        "\n",
        "# train\n",
        "train_dir = os.path.join(main_dir, 'train')\n",
        "train_pneumonia = os.path.join(train_dir, 'PNEUMONIA')\n",
        "train_normal = os.path.join(train_dir, 'NORMAL')\n",
        "\n",
        "# val\n",
        "val_dir = os.path.join(main_dir, 'val')\n",
        "val_pneumonia = os.path.join(val_dir, 'PNEUMONIA')\n",
        "val_normal = os.path.join(val_dir, 'NORMAL')\n",
        "\n",
        "# test\n",
        "test_dir = os.path.join(main_dir, 'test')\n",
        "test_pneumonia = os.path.join(test_dir, 'PNEUMONIA')\n",
        "test_normal = os.path.join(test_dir, 'NORMAL')"
      ],
      "metadata": {
        "id": "ZuqY8HhwA_Q3"
      },
      "execution_count": null,
      "outputs": []
    },
    {
      "cell_type": "code",
      "source": [
        "train_pneumonia_files = os.listdir(train_pneumonia)\n",
        "print(f'Número de imagens de treino para pneumonia: {len(train_pneumonia_files)}')\n",
        "train_normal_files = os.listdir(train_normal)\n",
        "print(f'Número de imagens de treino para casos normais: {len(train_normal_files)}')"
      ],
      "metadata": {
        "id": "S1DXhBmBBAdh"
      },
      "execution_count": null,
      "outputs": []
    },
    {
      "cell_type": "code",
      "source": [
        "val_pneumonia_files = os.listdir(val_pneumonia)\n",
        "print(f'Número de imagens de validação para pneumonia: {len(val_pneumonia_files)}')\n",
        "val_normal_files = os.listdir(val_normal)\n",
        "print(f'Número de imagens de validação para casos normais: {len(val_normal_files)}')"
      ],
      "metadata": {
        "id": "1kyqH9oLBB3e"
      },
      "execution_count": null,
      "outputs": []
    },
    {
      "cell_type": "code",
      "source": [
        "test_pneumonia_files = os.listdir(test_pneumonia)\n",
        "print(f'Número de imagens de teste para pneumonia: {len(test_pneumonia_files)}')\n",
        "test_normal_files = os.listdir(test_normal)\n",
        "print(f'Número de imagens de teste para casos normais: {len(test_normal_files)}')"
      ],
      "metadata": {
        "id": "ZPjfcptJBDjg"
      },
      "execution_count": null,
      "outputs": []
    },
    {
      "cell_type": "code",
      "source": [
        "normal_images = [os.path.join(train_normal, filename) for filename in train_normal_files[0:8]]\n",
        "pneumonia_images = [os.path.join(train_pneumonia, filename) for filename in train_pneumonia_files[0:8]]\n",
        "images = normal_images+pneumonia_images\n",
        "\n",
        "plt.figure(figsize=(10,10))\n",
        "for i, image in enumerate(images, start=1):\n",
        "  plt.subplot(4,4,i)\n",
        "  img = Image.open(image)\n",
        "  plt.imshow(img, cmap='gray')\n",
        "  plt.axis('off')\n",
        "  plt.title(image.split('/')[-2])"
      ],
      "metadata": {
        "id": "qoaEmqOwBEeB"
      },
      "execution_count": null,
      "outputs": []
    },
    {
      "cell_type": "code",
      "source": [
        "model = Sequential()\n",
        "\n",
        "model.add(Conv2D(32, (3,3), activation='relu' ,input_shape=(500,500,1)))\n",
        "model.add(MaxPooling2D(pool_size=(2,2)))\n",
        "\n",
        "model.add(Conv2D(64, (3,3), activation='relu'))\n",
        "model.add(MaxPooling2D(pool_size=(2,2)))\n",
        "\n",
        "model.add(Conv2D(128, (3,3), activation='relu'))\n",
        "model.add(MaxPooling2D(pool_size=(2,2)))\n",
        "\n",
        "model.add(Flatten())\n",
        "\n",
        "model.add(Dense(64,activation='relu'))\n",
        "model.add(Dense(1, activation='sigmoid'))\n",
        "\n",
        "model.compile(optimizer='adam', loss='binary_crossentropy', metrics=['accuracy', metrics.Precision(), metrics.Recall()])"
      ],
      "metadata": {
        "id": "RN4Z36IqBGOt"
      },
      "execution_count": null,
      "outputs": []
    },
    {
      "cell_type": "code",
      "source": [
        "train_generator = ImageDataGenerator(rescale= 1./255,\n",
        "                                     shear_range = 0.2,\n",
        "                                     zoom_range=0.2,\n",
        "                                     vertical_flip=True)\n",
        "\n",
        "val_generator = ImageDataGenerator(rescale= 1./255)\n",
        "\n",
        "train_data = train_generator.flow_from_directory(train_dir,\n",
        "                                                 target_size=(500,500),\n",
        "                                                 batch_size=32,\n",
        "                                                 class_mode='binary',\n",
        "                                                 color_mode='grayscale')\n",
        "\n",
        "val_data = val_generator.flow_from_directory(val_dir,\n",
        "                                                 target_size=(500,500),\n",
        "                                                 batch_size=1,\n",
        "                                                 class_mode='binary',\n",
        "                                                 color_mode='grayscale')"
      ],
      "metadata": {
        "id": "hec70pL2BIB0"
      },
      "execution_count": null,
      "outputs": []
    },
    {
      "cell_type": "code",
      "source": [
        "image_batch = train_data[0][0]\n",
        "\n",
        "plt.figure(figsize=(20,5))\n",
        "for i in range(len(image_batch)):\n",
        "  plt.subplot(4,8,i+1)\n",
        "  img = array_to_img(image_batch[i])\n",
        "  plt.imshow(img, cmap='gray')\n",
        "  plt.axis('off')\n",
        "plt.tight_layout()"
      ],
      "metadata": {
        "id": "aFlgOxXlBJSZ"
      },
      "execution_count": null,
      "outputs": []
    },
    {
      "cell_type": "code",
      "source": [
        "history = model.fit(train_data,\n",
        "                    steps_per_epoch=len(train_data),\n",
        "                    epochs=10,\n",
        "                    validation_data=val_data,\n",
        "                    validation_steps=len(val_data))"
      ],
      "metadata": {
        "id": "NdPcpVnfBKma"
      },
      "execution_count": null,
      "outputs": []
    },
    {
      "cell_type": "code",
      "source": [
        "test_generator = ImageDataGenerator(rescale = 1./255)\n",
        "\n",
        "test_data = test_generator.flow_from_directory(test_dir,\n",
        "                                               target_size=(500,500),\n",
        "                                               batch_size=1,\n",
        "                                               class_mode='binary',\n",
        "                                               color_mode='grayscale',\n",
        "                                               shuffle=False)\n",
        "\n",
        "y_pred = model.predict(test_data)\n",
        "y_pred[y_pred<=0.5] = 0\n",
        "y_pred[y_pred>0.5] = 1\n",
        "cm = confusion_matrix(test_data.classes, y_pred, labels=[0,1])\n",
        "sns.heatmap(cm, annot=True, fmt='.2f')"
      ],
      "metadata": {
        "id": "SyAif0nkBLrJ"
      },
      "execution_count": null,
      "outputs": []
    }
  ],
  "metadata": {
    "accelerator": "GPU",
    "colab": {
      "collapsed_sections": [
        "zEDpKlt9omR2"
      ],
      "provenance": [],
      "authorship_tag": "ABX9TyMq3Tr2qwpHfP0UGec2+/9J",
      "include_colab_link": true
    },
    "kernelspec": {
      "display_name": "Python 3",
      "name": "python3"
    },
    "language_info": {
      "name": "python"
    }
  },
  "nbformat": 4,
  "nbformat_minor": 0
}